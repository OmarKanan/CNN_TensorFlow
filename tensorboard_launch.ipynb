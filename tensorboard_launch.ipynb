{
 "cells": [
  {
   "cell_type": "code",
   "execution_count": 2,
   "metadata": {
    "collapsed": false
   },
   "outputs": [
    {
     "name": "stdout",
     "output_type": "stream",
     "text": [
      "Microsoft Windows [version 6.1.7601]\r\n",
      "Copyright (c) 2009 Microsoft Corporation. Tous droits r‚serv‚s.\r\n",
      "\r\n",
      "C:\\Users\\Omar\\Documents\\IPython\\CNN_TensorFlow>tensorboard --logdir=runs:logs --reload_interval 30\n",
      "\r\n",
      "C:\\Users\\Omar\\Documents\\IPython\\CNN_TensorFlow>"
     ]
    }
   ],
   "source": [
    "%%cmd\n",
    "tensorboard --logdir=runs:logs --reload_interval 30"
   ]
  },
  {
   "cell_type": "markdown",
   "metadata": {},
   "source": [
    "http://localhost:6006/"
   ]
  }
 ],
 "metadata": {
  "anaconda-cloud": {},
  "kernelspec": {
   "display_name": "Python [conda root]",
   "language": "python",
   "name": "conda-root-py"
  },
  "language_info": {
   "codemirror_mode": {
    "name": "ipython",
    "version": 3
   },
   "file_extension": ".py",
   "mimetype": "text/x-python",
   "name": "python",
   "nbconvert_exporter": "python",
   "pygments_lexer": "ipython3",
   "version": "3.5.2"
  }
 },
 "nbformat": 4,
 "nbformat_minor": 1
}
