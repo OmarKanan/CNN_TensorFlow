{
 "cells": [
  {
   "cell_type": "code",
   "execution_count": 4,
   "metadata": {
    "collapsed": false,
    "scrolled": true
   },
   "outputs": [
    {
     "name": "stdout",
     "output_type": "stream",
     "text": [
      "Microsoft Windows [version 6.1.7601]\r\n",
      "Copyright (c) 2009 Microsoft Corporation. Tous droits r‚serv‚s.\r\n",
      "\r\n",
      "C:\\Users\\Omar\\Documents\\IPython\\CNN_TensorFlow>tasklist | find \"tensorboard\"\n",
      "tensorboard.exe               6392 Console                    1     4ÿ680 Ko\r\n",
      "\r\n",
      "C:\\Users\\Omar\\Documents\\IPython\\CNN_TensorFlow>"
     ]
    }
   ],
   "source": [
    "%%cmd\n",
    "tasklist | find \"tensorboard\""
   ]
  },
  {
   "cell_type": "code",
   "execution_count": 5,
   "metadata": {
    "collapsed": false
   },
   "outputs": [
    {
     "name": "stdout",
     "output_type": "stream",
     "text": [
      "Microsoft Windows [version 6.1.7601]\r\n",
      "Copyright (c) 2009 Microsoft Corporation. Tous droits r‚serv‚s.\r\n",
      "\r\n",
      "C:\\Users\\Omar\\Documents\\IPython\\CNN_TensorFlow>taskkill /F /PID 6392    \n",
      "Op‚ration r‚ussieÿ: le processus avec PID 6392 a ‚t‚ termin‚.\r\n",
      "\r\n",
      "C:\\Users\\Omar\\Documents\\IPython\\CNN_TensorFlow>"
     ]
    }
   ],
   "source": [
    "%%cmd\n",
    "taskkill /F /PID 6392    "
   ]
  },
  {
   "cell_type": "code",
   "execution_count": null,
   "metadata": {
    "collapsed": true
   },
   "outputs": [],
   "source": []
  }
 ],
 "metadata": {
  "anaconda-cloud": {},
  "kernelspec": {
   "display_name": "Python [conda root]",
   "language": "python",
   "name": "conda-root-py"
  },
  "language_info": {
   "codemirror_mode": {
    "name": "ipython",
    "version": 3
   },
   "file_extension": ".py",
   "mimetype": "text/x-python",
   "name": "python",
   "nbconvert_exporter": "python",
   "pygments_lexer": "ipython3",
   "version": "3.5.2"
  }
 },
 "nbformat": 4,
 "nbformat_minor": 1
}
